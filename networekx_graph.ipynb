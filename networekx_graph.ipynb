{
 "cells": [
  {
   "cell_type": "code",
   "execution_count": 1,
   "id": "409462cf",
   "metadata": {},
   "outputs": [],
   "source": [
    "import networkx as nx\n",
    "\n",
    "def new_graph(node_types, first_node):\n",
    "    g = nx.MultiDiGraph()\n",
    "    node_id = 0\n",
    "    ntype = first_node['ntype']\n",
    "    node_data = {attr: first_node[attr] for attr in node_types[ntype]}\n",
    "    g.add_node(node_id, ntype=ntype, **node_data)\n",
    "    return g\n",
    "\n",
    "def find_node_id_by_name(graph, name):\n",
    "    for node_id, node_data in graph.nodes(data=True):\n",
    "        if 'name' in node_data and node_data['name'] == name:\n",
    "            return node_id\n",
    "    return 0\n",
    "\n",
    "def get_last_node_id(graph):\n",
    "    last_node_id = list(graph.nodes())[-1]\n",
    "    return last_node_id\n",
    "        \n",
    "def node_add(graph, node):\n",
    "    node_id = get_last_node_id(graph) + 1\n",
    "    ntype = node['ntype']\n",
    "    node_data = {attr: node[attr] for attr in node_types[ntype]}\n",
    "    graph.add_node(node_id, ntype=ntype, **node_data)\n",
    "        \n",
    "def edge_add(graph, item, board,relation):\n",
    "    item_id = find_node_id_by_name(graph,item)\n",
    "    board_id = find_node_id_by_name(graph,board)\n",
    "    \n",
    "    graph.add_edge(item_id, board_id, relation=relation)\n",
    "    \n",
    "def watch_graph(graph):\n",
    "    print(\"Nodes:\", graph.nodes(data=True))\n",
    "    print(\"Edges:\", graph.edges(data=True))"
   ]
  },
  {
   "cell_type": "code",
   "execution_count": 2,
   "id": "aeade17c",
   "metadata": {},
   "outputs": [],
   "source": [
    "node_types = {\n",
    "    'user': {'name': str, 'age': int, 'job': str},\n",
    "    'post': {'name': str, 'content': str}\n",
    "}\n",
    "\n",
    "first_node = {'ntype': 'user', 'name': 'Hyeon Woo', 'age': 24, 'job': 'Student'}\n",
    "\n",
    "g = new_graph(node_types, first_node)"
   ]
  },
  {
   "cell_type": "code",
   "execution_count": 3,
   "id": "5f84f7bd",
   "metadata": {},
   "outputs": [
    {
     "name": "stdout",
     "output_type": "stream",
     "text": [
      "Nodes: [(0, {'ntype': 'user', 'name': 'Hyeon Woo', 'age': 24, 'job': 'Student'})]\n",
      "Edges: []\n"
     ]
    }
   ],
   "source": [
    "watch_graph(g)"
   ]
  },
  {
   "cell_type": "code",
   "execution_count": 4,
   "id": "28407fac",
   "metadata": {},
   "outputs": [
    {
     "name": "stdout",
     "output_type": "stream",
     "text": [
      "0\n"
     ]
    }
   ],
   "source": [
    "print(get_last_node_id(g))\n",
    "\n",
    "new_node = {'ntype': 'post', 'name': 'New Post', 'content': 'This is a new post!'}\n",
    "\n",
    "node_add(g,new_node)"
   ]
  },
  {
   "cell_type": "code",
   "execution_count": 5,
   "id": "c38406de",
   "metadata": {},
   "outputs": [
    {
     "name": "stdout",
     "output_type": "stream",
     "text": [
      "Nodes: [(0, {'ntype': 'user', 'name': 'Hyeon Woo', 'age': 24, 'job': 'Student'}), (1, {'ntype': 'post', 'name': 'New Post', 'content': 'This is a new post!'})]\n",
      "Edges: []\n"
     ]
    }
   ],
   "source": [
    "watch_graph(g)"
   ]
  },
  {
   "cell_type": "code",
   "execution_count": 6,
   "id": "897fd572",
   "metadata": {},
   "outputs": [],
   "source": [
    "edge_add(g, 'Hyeon Woo', 'New Post','authored')"
   ]
  },
  {
   "cell_type": "code",
   "execution_count": 7,
   "id": "f3e86b9f",
   "metadata": {},
   "outputs": [
    {
     "name": "stdout",
     "output_type": "stream",
     "text": [
      "Nodes: [(0, {'ntype': 'user', 'name': 'Hyeon Woo', 'age': 24, 'job': 'Student'}), (1, {'ntype': 'post', 'name': 'New Post', 'content': 'This is a new post!'})]\n",
      "Edges: [(0, 1, {'relation': 'authored'})]\n"
     ]
    }
   ],
   "source": [
    "watch_graph(g)"
   ]
  }
 ],
 "metadata": {
  "kernelspec": {
   "display_name": "Python 3 (ipykernel)",
   "language": "python",
   "name": "python3"
  },
  "language_info": {
   "codemirror_mode": {
    "name": "ipython",
    "version": 3
   },
   "file_extension": ".py",
   "mimetype": "text/x-python",
   "name": "python",
   "nbconvert_exporter": "python",
   "pygments_lexer": "ipython3",
   "version": "3.11.3"
  }
 },
 "nbformat": 4,
 "nbformat_minor": 5
}
