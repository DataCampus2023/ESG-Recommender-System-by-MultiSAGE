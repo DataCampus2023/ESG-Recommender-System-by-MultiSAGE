{
 "cells": [
  {
   "cell_type": "code",
   "execution_count": 1,
   "id": "90c362af",
   "metadata": {},
   "outputs": [],
   "source": [
    "import dgl\n",
    "from scipy import spatial\n",
    "import numpy as np\n",
    "import pandas as pd\n",
    "\n",
    "df = pd.read_excel('./dataset/Haircare/df.xlsx')\n",
    "merged_df = pd.read_excel('./dataset/Haircare/merged_df.xlsx')\n",
    "attributes = pd.read_excel('./dataset/Haircare/attributes.xlsx')\n",
    "g = dgl.load_graphs('./dataset/Haircare/haircare_graph.dgl')[0][0]\n",
    "\n",
    "saved_npz = np.load('./multisage/' + 'h_items.npz')\n",
    "h_item = saved_npz['movie_vectors']\n",
    "tree = spatial.KDTree(h_item.tolist())"
   ]
  },
  {
   "cell_type": "code",
   "execution_count": 4,
   "id": "3b32eec2",
   "metadata": {},
   "outputs": [
    {
     "ename": "KeyError",
     "evalue": "'40819420619'",
     "output_type": "error",
     "traceback": [
      "\u001b[1;31m---------------------------------------------------------------------------\u001b[0m",
      "\u001b[1;31mKeyError\u001b[0m                                  Traceback (most recent call last)",
      "Cell \u001b[1;32mIn[4], line 10\u001b[0m\n\u001b[0;32m      7\u001b[0m     index_id_to_ID[idx] \u001b[38;5;241m=\u001b[39m ID\n\u001b[0;32m      8\u001b[0m     ID_to_index_id[ID] \u001b[38;5;241m=\u001b[39m idx\n\u001b[1;32m---> 10\u001b[0m h_query \u001b[38;5;241m=\u001b[39m h_item[ID_to_index_id[\u001b[38;5;124m'\u001b[39m\u001b[38;5;124m40819420619\u001b[39m\u001b[38;5;124m'\u001b[39m]]\n\u001b[0;32m     11\u001b[0m index_ids \u001b[38;5;241m=\u001b[39m tree\u001b[38;5;241m.\u001b[39mquery(h_query, \u001b[38;5;241m10\u001b[39m)[\u001b[38;5;241m1\u001b[39m]\n\u001b[0;32m     12\u001b[0m IDs \u001b[38;5;241m=\u001b[39m [index_id_to_ID[idx] \u001b[38;5;28;01mfor\u001b[39;00m idx \u001b[38;5;129;01min\u001b[39;00m index_ids]\n",
      "\u001b[1;31mKeyError\u001b[0m: '40819420619'"
     ]
    }
   ],
   "source": [
    "entities = df['ID'].astype('category')\n",
    "m_entities = entities.cat.reorder_categories(df['ID'].values)\n",
    "\n",
    "index_id_to_ID = {}\n",
    "ID_to_index_id = {}\n",
    "for idx, ID in enumerate(m_entities):\n",
    "    index_id_to_ID[idx] = ID\n",
    "    ID_to_index_id[ID] = idx\n",
    "    \n",
    "h_query = h_item[ID_to_index_id[40819420619]]\n",
    "index_ids = tree.query(h_query, 10)[1]\n",
    "IDs = [index_id_to_ID[idx] for idx in index_ids]\n",
    "\n",
    "for mid in IDs:\n",
    "    print(df[df['ID']==mid]['상품명'].values)"
   ]
  },
  {
   "cell_type": "code",
   "execution_count": null,
   "id": "048bd59e",
   "metadata": {},
   "outputs": [],
   "source": [
    "import torch\n",
    "import pickle\n",
    "import sys\n",
    "\n",
    "sys.path.append('C:/Users/kimhw/Desktop/데이터 청년 캠퍼스/Github/ESG-Recommender-System-by-MultiSAGE/multisage')\n",
    "from model import MultiSAGEModel\n",
    "from sampler import ItemToItemBatchSampler, NeighborSampler, PinSAGECollator\n",
    "\n",
    "load_dict = torch.load('./multisage/MultiSAGE_weights.pth')\n",
    "\n",
    "model = MultiSAGEModel(g, '상품', '특징', 512, 2, 3)\n",
    "model.load_state_dict(load_dict)\n",
    "\n",
    "batch_sampler = ItemToItemBatchSampler(g, '특징', '상품', 512)\n",
    "neighbor_sampler = NeighborSampler(\n",
    "    g, '특징', '상품', 2, 0.5, 10, 5, 2)\n",
    "collator = PinSAGECollator(neighbor_sampler, g, '상품', '특징')"
   ]
  },
  {
   "cell_type": "code",
   "execution_count": null,
   "id": "70db68ec",
   "metadata": {},
   "outputs": [],
   "source": [
    "attributes[attributes['특징'] == '트리트먼트']"
   ]
  },
  {
   "cell_type": "code",
   "execution_count": null,
   "id": "4ea163d5",
   "metadata": {},
   "outputs": [],
   "source": [
    "index_id = ID_to_index_id[25320566538]\n",
    "with torch.no_grad():\n",
    "    blocks, context_blocks = collator.collate_point(index_id=index_id)\n",
    "    context_batch = model.get_representation(blocks, context_blocks, context_id=86)\n",
    "    \n",
    "tree.query(context_batch.numpy()[0], 10)\n",
    "\n",
    "index_ids = tree.query(context_batch.numpy()[0], 10)[1]\n",
    "IDs = [index_id_to_ID[idx] for idx in index_ids]\n",
    "for mid in IDs:\n",
    "    print(df[df['ID']==mid]['상품명'].values)"
   ]
  },
  {
   "cell_type": "code",
   "execution_count": null,
   "id": "c03f764f",
   "metadata": {},
   "outputs": [],
   "source": []
  }
 ],
 "metadata": {
  "kernelspec": {
   "display_name": "Python 3 (ipykernel)",
   "language": "python",
   "name": "python3"
  },
  "language_info": {
   "codemirror_mode": {
    "name": "ipython",
    "version": 3
   },
   "file_extension": ".py",
   "mimetype": "text/x-python",
   "name": "python",
   "nbconvert_exporter": "python",
   "pygments_lexer": "ipython3",
   "version": "3.11.3"
  }
 },
 "nbformat": 4,
 "nbformat_minor": 5
}
