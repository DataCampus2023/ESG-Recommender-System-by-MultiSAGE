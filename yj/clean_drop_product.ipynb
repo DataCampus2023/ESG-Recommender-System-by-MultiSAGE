{
 "cells": [
  {
   "cell_type": "code",
   "execution_count": 1,
   "metadata": {},
   "outputs": [],
   "source": [
    "import pandas as pd\n",
    "import re\n",
    "\n",
    "# 상품명을 정리하고 중복을 제거하는 함수\n",
    "def clean_and_remove_duplicates(data):\n",
    "    # 데이터프레임 생성\n",
    "    df = pd.DataFrame(data)\n",
    "    \n",
    "    # 용량 추출 함수\n",
    "    def extract_capacity(name):\n",
    "        match = re.search(r'(\\d+\\s*(?:ml|g))$', name)\n",
    "        return match.group(1) if match else None\n",
    "    \n",
    "    # '용량' 컬럼 추가\n",
    "    df['용량'] = df['상품명'].apply(extract_capacity)\n",
    "    \n",
    "    # '+'가 들어가 있는 행 제거\n",
    "    df = df[~df['상품명'].str.contains('\\+')]\n",
    "\n",
    "    # '세트'가 들어가 있는 행 제거\n",
    "    df = df[~df['상품명'].str.contains('세트')]\n",
    "    \n",
    "    # '상품명'에서 '용량' 제거한 컬럼 추가\n",
    "    df['정리된 상품명'] = df['상품명'].replace(r'\\s*\\d+\\s*(?:ml|g)\\s*$', '', regex=True).str.strip()\n",
    "    \n",
    "    # 중복된 '정리된 상품명' 제거\n",
    "    df.drop_duplicates(subset='정리된 상품명', keep='first', inplace=True)\n",
    "    \n",
    "    return df\n"
   ]
  }
 ],
 "metadata": {
  "kernelspec": {
   "display_name": "dyc1",
   "language": "python",
   "name": "dyc1"
  },
  "language_info": {
   "codemirror_mode": {
    "name": "ipython",
    "version": 3
   },
   "file_extension": ".py",
   "mimetype": "text/x-python",
   "name": "python",
   "nbconvert_exporter": "python",
   "pygments_lexer": "ipython3",
   "version": "3.7.16"
  },
  "orig_nbformat": 4
 },
 "nbformat": 4,
 "nbformat_minor": 2
}
