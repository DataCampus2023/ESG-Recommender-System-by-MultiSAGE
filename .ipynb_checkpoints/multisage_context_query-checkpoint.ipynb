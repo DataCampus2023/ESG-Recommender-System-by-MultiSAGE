{
 "cells": [
  {
   "cell_type": "markdown",
   "id": "891a9a4a-5d45-4275-9304-8bb847d6879a",
   "metadata": {},
   "source": [
    "## Dataset"
   ]
  },
  {
   "cell_type": "code",
   "execution_count": 1,
   "id": "68154008-830c-45ce-80a9-72e5ad55b3aa",
   "metadata": {},
   "outputs": [],
   "source": [
    "import re\n",
    "import pandas as pd\n",
    "import numpy as np\n",
    "\n",
    "movies = []\n",
    "with open('./dataset/movielens/movies.dat', encoding='latin1') as f:\n",
    "    for l in f:\n",
    "        id_, title, genres = l.strip().split('::')\n",
    "\n",
    "        # extract year\n",
    "        assert re.match(r'.*\\([0-9]{4}\\)$', title)\n",
    "        year = title[-5:-1]\n",
    "        title = title[:-6].strip()\n",
    "\n",
    "        data = {'movie_id': int(id_), 'title': title, 'year': year, 'genre': genres}\n",
    "        movies.append(data)\n",
    "movies = pd.DataFrame(movies).astype({'year': 'category'})\n",
    "\n",
    "ratings = []\n",
    "with open('./dataset/movielens/ratings.dat', encoding='latin1') as f:\n",
    "    for l in f:\n",
    "        user_id, movie_id, rating, timestamp = [int(_) for _ in l.split('::')]\n",
    "        ratings.append({\n",
    "            'user_id': user_id,\n",
    "            'movie_id': movie_id,\n",
    "            'rating': rating,\n",
    "            'timestamp': timestamp,\n",
    "            })\n",
    "ratings = pd.DataFrame(ratings)\n",
    "\n",
    "distinct_movies_in_ratings = ratings['movie_id'].unique()\n",
    "movies = movies[movies['movie_id'].isin(distinct_movies_in_ratings)]\n",
    "movies['genre'] = movies['genre'].apply(lambda x: x.split(\"|\")[0])\n",
    "entities = movies['movie_id'].astype('category')\n",
    "m_entities = entities.cat.reorder_categories(movies['movie_id'].values)"
   ]
  },
  {
   "cell_type": "code",
   "execution_count": 2,
   "id": "5801404d-0194-4b2c-8cc0-d26f017f297b",
   "metadata": {},
   "outputs": [],
   "source": [
    "index_id_to_movie_id = {}\n",
    "movie_id_to_index_id = {}\n",
    "for idx, movie_id in enumerate(m_entities):\n",
    "    index_id_to_movie_id[idx] = movie_id\n",
    "    movie_id_to_index_id[movie_id] = idx"
   ]
  },
  {
   "cell_type": "markdown",
   "id": "f55bee7b-9b92-4a1e-b546-1140eaae688d",
   "metadata": {},
   "source": [
    "----\n",
    "## Normal Query"
   ]
  },
  {
   "cell_type": "code",
   "execution_count": 3,
   "id": "73a5df9c-2208-4946-9d5c-50168b70cc26",
   "metadata": {},
   "outputs": [],
   "source": [
    "from scipy import spatial\n",
    "\n",
    "saved_npz = np.load('./multisage/' + 'h_items.npz')\n",
    "h_item = saved_npz['movie_vectors']\n",
    "tree = spatial.KDTree(h_item.tolist())"
   ]
  },
  {
   "cell_type": "code",
   "execution_count": 4,
   "id": "d54a706b-a474-4e0b-b30e-b00f67b579fc",
   "metadata": {},
   "outputs": [],
   "source": [
    "h_query = h_item[movie_id_to_index_id[3]]\n",
    "index_ids = tree.query(h_query, 10)[1]\n",
    "movie_ids = [index_id_to_movie_id[idx] for idx in index_ids]"
   ]
  },
  {
   "cell_type": "code",
   "execution_count": 5,
   "id": "1b0df9ef-7d1e-442c-a25c-9c135809729b",
   "metadata": {},
   "outputs": [
    {
     "name": "stdout",
     "output_type": "stream",
     "text": [
      "['Grumpier Old Men']\n",
      "['Incredibly True Adventure of Two Girls in Love, The']\n",
      "['French Twist (Gazon maudit)']\n",
      "['French Kiss']\n",
      "[\"Pyromaniac's Love Story, A\"]\n",
      "['Vampire in Brooklyn']\n",
      "['While You Were Sleeping']\n",
      "['Rendezvous in Paris (Rendez-vous de Paris, Les)']\n",
      "['Forget Paris']\n",
      "['Clueless']\n"
     ]
    }
   ],
   "source": [
    "for mid in movie_ids:\n",
    "    print(movies[movies['movie_id']==mid]['title'].values)"
   ]
  },
  {
   "cell_type": "markdown",
   "id": "31239687-4de8-43d5-bac4-97035614240a",
   "metadata": {},
   "source": [
    "----\n",
    "## Context Query"
   ]
  },
  {
   "cell_type": "code",
   "execution_count": 6,
   "id": "ad239e61-a8b5-4cd4-bfd1-204cc5aa44c1",
   "metadata": {},
   "outputs": [],
   "source": [
    "import os\n",
    "import dgl\n",
    "\n",
    "import numpy as np\n",
    "import torch\n",
    "import torch.nn as nn\n",
    "import torch.multiprocessing as mp\n",
    "from torch.utils.data import DataLoader\n",
    "\n",
    "from multisage import layers\n",
    "from multisage.sampler import ItemToItemBatchSampler, NeighborSampler, PinSAGECollator\n",
    "\n",
    "\n",
    "class MultiSAGEModel(nn.Module):\n",
    "    def __init__(self, full_graph, ntype, ctype, hidden_dims, n_layers, gat_num_heads):\n",
    "        super().__init__()\n",
    "        self.nodeproj = layers.LinearProjector(full_graph, ntype, hidden_dims)\n",
    "        self.contextproj = layers.LinearProjector(full_graph, ctype, hidden_dims)\n",
    "        self.multisage = layers.MultiSAGENet(hidden_dims, n_layers, gat_num_heads)\n",
    "        self.scorer = layers.ItemToItemScorer(full_graph, ntype)\n",
    "\n",
    "    def forward(self, pos_graph, neg_graph, blocks, context_blocks):\n",
    "        h_item = self.get_representation(blocks, context_blocks)\n",
    "        pos_score = self.scorer(pos_graph, h_item)\n",
    "        neg_score = self.scorer(neg_graph, h_item)\n",
    "        return (neg_score - pos_score + 1).clamp(min=0)\n",
    "\n",
    "    def get_representation(self, blocks, context_blocks, context_id=None):\n",
    "        if context_id:\n",
    "            return self.get_context_query(blocks, context_blocks, context_id)\n",
    "        else:\n",
    "            h_item = self.nodeproj(blocks[0].srcdata)\n",
    "            h_item_dst = self.nodeproj(blocks[-1].dstdata)\n",
    "            z_c = self.contextproj(context_blocks[0])\n",
    "            z_c_dst = self.contextproj(context_blocks[-1])\n",
    "            h = h_item_dst + self.multisage(blocks, h_item, (z_c, z_c_dst))\n",
    "            return h\n",
    "\n",
    "    def get_context_query(self, blocks, context_blocks, context_id):\n",
    "        # check sub-graph contains context id\n",
    "        context_id = context_blocks[-1]['_ID'][0].item()\n",
    "        print(context_id)\n",
    "        print(context_blocks[-1]['_ID'])\n",
    "        context_index = (context_id == context_blocks[-1]['_ID']).nonzero(as_tuple=True)[0]\n",
    "        if context_index.size()[0] == 0:  # if context id not in sub-graph, only random sample context using for repr\n",
    "            print(\"context not in sub graph\")\n",
    "            return self.get_representation(blocks, context_blocks)\n",
    "        else:  # if context id in sub-graph, get MultiSAGE's context query\n",
    "            print(\"execute context query\")\n",
    "            attn_index = torch.ones(context_blocks[-1]['_ID'].shape[0], dtype=bool)\n",
    "            attn_index[context_index] = False\n",
    "            h_item = self.nodeproj(blocks[0].srcdata)\n",
    "            h_item_dst = self.nodeproj(blocks[-1].dstdata)\n",
    "            z_c = self.contextproj(context_blocks[0])\n",
    "            z_c_dst = self.contextproj(context_blocks[-1])\n",
    "            h = h_item_dst + self.multisage(blocks, h_item, (z_c, z_c_dst), attn_index)\n",
    "            return h"
   ]
  },
  {
   "cell_type": "code",
   "execution_count": 7,
   "id": "427f981c-b39e-4b63-871b-2ba3210c37e7",
   "metadata": {},
   "outputs": [],
   "source": [
    "import torch\n",
    "import pickle\n",
    "\n",
    "g = dgl.load_graphs('graph_data.dgl')[0][0]\n",
    "load_dict = torch.load('./multisage/MultiSAGE_weights.pth')"
   ]
  },
  {
   "cell_type": "code",
   "execution_count": 8,
   "id": "df7abad7-18df-4e25-a287-743312e3607b",
   "metadata": {},
   "outputs": [
    {
     "data": {
      "text/plain": [
       "<All keys matched successfully>"
      ]
     },
     "execution_count": 8,
     "metadata": {},
     "output_type": "execute_result"
    }
   ],
   "source": [
    "model = MultiSAGEModel(g, 'movie', 'genre', 512, 2, 3)\n",
    "model.load_state_dict(load_dict)"
   ]
  },
  {
   "cell_type": "code",
   "execution_count": 9,
   "id": "95bd2354",
   "metadata": {},
   "outputs": [],
   "source": [
    "neighbor_sampler = NeighborSampler(\n",
    "    g, 'genre', 'movie', 2, 0.5, 10, 5, 2)"
   ]
  },
  {
   "cell_type": "code",
   "execution_count": 10,
   "id": "058fc624",
   "metadata": {},
   "outputs": [
    {
     "data": {
      "text/plain": [
       "([Block(num_src_nodes=29, num_dst_nodes=6, num_edges=30),\n",
       "  Block(num_src_nodes=6, num_dst_nodes=1, num_edges=5)],\n",
       " [({1: 2,\n",
       "    1900: 3,\n",
       "    251: 8,\n",
       "    3512: 8,\n",
       "    601: 2,\n",
       "    3246: 8,\n",
       "    253: 8,\n",
       "    1992: 7,\n",
       "    1050: 7,\n",
       "    0: 2,\n",
       "    3508: 2,\n",
       "    2664: 7,\n",
       "    963: 2,\n",
       "    1704: 2,\n",
       "    944: 8,\n",
       "    964: 8,\n",
       "    858: 3,\n",
       "    317: 3,\n",
       "    1899: 3,\n",
       "    574: 3,\n",
       "    1091: 0,\n",
       "    1551: 3,\n",
       "    1918: 3,\n",
       "    1965: 0,\n",
       "    3663: 3,\n",
       "    2745: 2,\n",
       "    2757: 8,\n",
       "    651: 7,\n",
       "    2368: 3,\n",
       "    3238: 0,\n",
       "    2184: 0,\n",
       "    33: 0,\n",
       "    2590: 5,\n",
       "    2071: 5,\n",
       "    3675: 5,\n",
       "    848: 5,\n",
       "    3177: 5,\n",
       "    20: 0,\n",
       "    2234: 0,\n",
       "    2257: 2,\n",
       "    575: 9,\n",
       "    3655: 5,\n",
       "    1294: 5,\n",
       "    863: 0,\n",
       "    912: 0,\n",
       "    2766: 0,\n",
       "    517: 0,\n",
       "    1140: 0,\n",
       "    1714: 5,\n",
       "    2162: 1,\n",
       "    1678: 5,\n",
       "    1909: 1,\n",
       "    580: 3,\n",
       "    1838: 2,\n",
       "    708: 1,\n",
       "    2514: 1,\n",
       "    523: 5,\n",
       "    1281: 3,\n",
       "    1766: 3,\n",
       "    745: 5,\n",
       "    1306: 4,\n",
       "    1200: 5,\n",
       "    1892: 5,\n",
       "    1993: 8,\n",
       "    2708: 9,\n",
       "    1906: 8,\n",
       "    3302: 9,\n",
       "    1653: 9,\n",
       "    2762: 5,\n",
       "    954: 8,\n",
       "    357: 8,\n",
       "    1297: 8,\n",
       "    945: 2,\n",
       "    1107: 2,\n",
       "    1852: 2,\n",
       "    711: 9,\n",
       "    3206: 8,\n",
       "    2012: 8,\n",
       "    2820: 2,\n",
       "    2333: 9,\n",
       "    1003: 2,\n",
       "    1460: 7,\n",
       "    1873: 8,\n",
       "    1825: 8},\n",
       "   {(1, 1900): 2,\n",
       "    (1, 251): 8,\n",
       "    (251, 3512): 7,\n",
       "    (1, 601): 2,\n",
       "    (1, 3246): 8,\n",
       "    (3246, 253): 8,\n",
       "    (1, 1992): 7,\n",
       "    (1992, 1050): 9,\n",
       "    (1, 0): 2,\n",
       "    (0, 3508): 1,\n",
       "    (1, 2664): 7,\n",
       "    (1, 253): 8,\n",
       "    (1, 963): 2,\n",
       "    (963, 1704): 5,\n",
       "    (1, 944): 8,\n",
       "    (944, 964): 2,\n",
       "    (858, 317): 3,\n",
       "    (858, 1899): 3,\n",
       "    (1899, 574): 2,\n",
       "    (858, 1091): 0,\n",
       "    (858, 1551): 3,\n",
       "    (1551, 1918): 1,\n",
       "    (858, 1965): 0,\n",
       "    (858, 3663): 3,\n",
       "    (858, 2745): 2,\n",
       "    (858, 2757): 7,\n",
       "    (2757, 651): 8,\n",
       "    (858, 2368): 3,\n",
       "    (858, 3238): 0,\n",
       "    (3238, 2184): 9,\n",
       "    (33, 2590): 5,\n",
       "    (2590, 2071): 5,\n",
       "    (33, 3675): 5,\n",
       "    (33, 848): 5,\n",
       "    (848, 3177): 0,\n",
       "    (33, 20): 0,\n",
       "    (20, 2234): 6,\n",
       "    (33, 2257): 2,\n",
       "    (2257, 575): 9,\n",
       "    (33, 3655): 5,\n",
       "    (3655, 1294): 0,\n",
       "    (33, 863): 0,\n",
       "    (863, 912): 0,\n",
       "    (33, 2766): 0,\n",
       "    (2766, 517): 0,\n",
       "    (33, 1): 2,\n",
       "    (33, 1140): 0,\n",
       "    (574, 1714): 5,\n",
       "    (574, 2162): 1,\n",
       "    (574, 1678): 5,\n",
       "    (574, 1909): 1,\n",
       "    (574, 580): 3,\n",
       "    (580, 1900): 3,\n",
       "    (574, 1838): 2,\n",
       "    (574, 708): 1,\n",
       "    (708, 2514): 11,\n",
       "    (574, 523): 5,\n",
       "    (574, 1281): 3,\n",
       "    (1281, 1766): 4,\n",
       "    (745, 1306): 4,\n",
       "    (745, 1281): 5,\n",
       "    (745, 33): 5,\n",
       "    (745, 1200): 5,\n",
       "    (1200, 1892): 5,\n",
       "    (745, 1993): 8,\n",
       "    (1993, 253): 8,\n",
       "    (745, 2708): 9,\n",
       "    (745, 2757): 8,\n",
       "    (2757, 1906): 8,\n",
       "    (745, 863): 9,\n",
       "    (863, 3302): 11,\n",
       "    (745, 1653): 9,\n",
       "    (745, 2762): 5,\n",
       "    (954, 357): 8,\n",
       "    (357, 1297): 12,\n",
       "    (954, 945): 2,\n",
       "    (945, 1107): 5,\n",
       "    (954, 1852): 2,\n",
       "    (954, 711): 9,\n",
       "    (954, 3206): 8,\n",
       "    (3206, 2012): 8,\n",
       "    (954, 2820): 2,\n",
       "    (2820, 1838): 1,\n",
       "    (954, 2333): 9,\n",
       "    (2333, 575): 6,\n",
       "    (954, 1003): 2,\n",
       "    (954, 1460): 7,\n",
       "    (1460, 863): 9,\n",
       "    (954, 1873): 8,\n",
       "    (1873, 1825): 8}),\n",
       "  ({1: 8,\n",
       "    2206: 8,\n",
       "    2592: 8,\n",
       "    1993: 8,\n",
       "    858: 2,\n",
       "    966: 2,\n",
       "    1701: 8,\n",
       "    574: 8,\n",
       "    3680: 7,\n",
       "    1873: 8,\n",
       "    954: 8,\n",
       "    33: 2,\n",
       "    1025: 8,\n",
       "    745: 8},\n",
       "   {(1, 2206): 8,\n",
       "    (2206, 2592): 8,\n",
       "    (1, 1993): 8,\n",
       "    (1, 858): 7,\n",
       "    (858, 966): 3,\n",
       "    (1, 1701): 8,\n",
       "    (1701, 574): 2,\n",
       "    (1, 3680): 7,\n",
       "    (1, 1873): 8,\n",
       "    (1873, 954): 7,\n",
       "    (1, 33): 2,\n",
       "    (1, 1025): 8,\n",
       "    (1, 745): 8})])"
      ]
     },
     "execution_count": 10,
     "metadata": {},
     "output_type": "execute_result"
    }
   ],
   "source": [
    "neighbor_sampler.sample_blocks(1)"
   ]
  },
  {
   "cell_type": "code",
   "execution_count": 11,
   "id": "f19acaa5-f42e-4d32-9245-874d21bbbc41",
   "metadata": {},
   "outputs": [
    {
     "name": "stdout",
     "output_type": "stream",
     "text": [
      "4\n",
      "tensor([4, 4, 5, 5, 5])\n",
      "execute context query\n"
     ]
    }
   ],
   "source": [
    "batch_sampler = ItemToItemBatchSampler(g, 'genre', 'movie', 512)\n",
    "neighbor_sampler = NeighborSampler(\n",
    "    g, 'genre', 'movie', 2, 0.5, 10, 5, 2)\n",
    "collator = PinSAGECollator(neighbor_sampler, g, 'movie', 'genre')\n",
    "\n",
    "index_id = movie_id_to_index_id[3]\n",
    "with torch.no_grad():\n",
    "    blocks, context_blocks = collator.collate_point(index_id=index_id)\n",
    "    context_batch = model.get_representation(blocks, context_blocks, context_id=4)"
   ]
  },
  {
   "cell_type": "code",
   "execution_count": 12,
   "id": "160ba59f-59dd-4bc9-8ea5-9c6a3963a31b",
   "metadata": {},
   "outputs": [
    {
     "name": "stdout",
     "output_type": "stream",
     "text": [
      "['French Twist (Gazon maudit)']\n",
      "['Grumpier Old Men']\n",
      "['French Kiss']\n",
      "['Incredibly True Adventure of Two Girls in Love, The']\n",
      "[\"Pyromaniac's Love Story, A\"]\n",
      "['While You Were Sleeping']\n",
      "['Vampire in Brooklyn']\n",
      "['Rendezvous in Paris (Rendez-vous de Paris, Les)']\n",
      "['Forget Paris']\n",
      "['Clueless']\n"
     ]
    }
   ],
   "source": [
    "# Comedy Query\n",
    "index_ids = tree.query(context_batch.numpy()[0], 10)[1]\n",
    "movie_ids = [index_id_to_movie_id[idx] for idx in index_ids]\n",
    "for mid in movie_ids:\n",
    "    print(movies[movies['movie_id']==mid]['title'].values)"
   ]
  },
  {
   "cell_type": "code",
   "execution_count": 13,
   "id": "ed5fa697-c73c-41f4-8c48-6eae95078064",
   "metadata": {},
   "outputs": [
    {
     "name": "stdout",
     "output_type": "stream",
     "text": [
      "4\n",
      "tensor([4, 5, 5, 5, 5])\n",
      "execute context query\n"
     ]
    }
   ],
   "source": [
    "index_id = movie_id_to_index_id[3]\n",
    "with torch.no_grad():\n",
    "    blocks, context_blocks = collator.collate_point(index_id=index_id)\n",
    "    context_batch = model.get_representation(blocks, context_blocks, context_id=5)"
   ]
  },
  {
   "cell_type": "code",
   "execution_count": 14,
   "id": "7abf9401-7b27-42f8-8131-c55d8560d195",
   "metadata": {},
   "outputs": [
    {
     "name": "stdout",
     "output_type": "stream",
     "text": [
      "['French Kiss']\n",
      "['Grumpier Old Men']\n",
      "['French Twist (Gazon maudit)']\n",
      "['Incredibly True Adventure of Two Girls in Love, The']\n",
      "[\"Pyromaniac's Love Story, A\"]\n",
      "['Vampire in Brooklyn']\n",
      "['While You Were Sleeping']\n",
      "['Rendezvous in Paris (Rendez-vous de Paris, Les)']\n",
      "['Forget Paris']\n",
      "['Clueless']\n"
     ]
    }
   ],
   "source": [
    "# Romance Query\n",
    "index_ids = tree.query(context_batch.numpy()[0], 10)[1]\n",
    "movie_ids = [index_id_to_movie_id[idx] for idx in index_ids]\n",
    "for mid in movie_ids:\n",
    "    print(movies[movies['movie_id']==mid]['title'].values)"
   ]
  },
  {
   "cell_type": "markdown",
   "id": "0e2eb772-c1c9-4844-91d8-e3c73e4a8667",
   "metadata": {},
   "source": [
    "----\n",
    "## Visualize"
   ]
  },
  {
   "cell_type": "code",
   "execution_count": null,
   "id": "534dc303-d379-4799-8afd-dcf370527f7c",
   "metadata": {},
   "outputs": [],
   "source": [
    "%matplotlib inline\n",
    "\n",
    "import matplotlib.pyplot as plt\n",
    "from sklearn.manifold import TSNE\n",
    "\n",
    "model = TSNE(learning_rate=300, method='exact', n_iter=500)\n",
    "transformed = model.fit_transform(h_item)"
   ]
  },
  {
   "cell_type": "code",
   "execution_count": null,
   "id": "8db09139",
   "metadata": {},
   "outputs": [],
   "source": [
    "h_item"
   ]
  },
  {
   "cell_type": "code",
   "execution_count": null,
   "id": "d6e82162",
   "metadata": {},
   "outputs": [],
   "source": [
    "h_item.shape"
   ]
  },
  {
   "cell_type": "code",
   "execution_count": null,
   "id": "c526724e-2e2b-4372-95f7-280da50416fc",
   "metadata": {},
   "outputs": [],
   "source": [
    "from bokeh.models import *\n",
    "from bokeh.plotting import *\n",
    "from bokeh.io import *\n",
    "from bokeh.tile_providers import *\n",
    "from bokeh.palettes import *\n",
    "from bokeh.transform import *\n",
    "from bokeh.layouts import *\n",
    "\n",
    "from bokeh.plotting import figure, show\n",
    "from bokeh.sampledata.iris import flowers\n",
    "from bokeh.models import HoverTool\n",
    "\n",
    "movies['x'] = transformed[:, 0]\n",
    "movies['y'] = transformed[:, 1]\n",
    "movies = movies[['title', 'x', 'y', 'genre']]"
   ]
  },
  {
   "cell_type": "code",
   "execution_count": null,
   "id": "62aa92e3-b999-4cea-802f-a28175ef3c21",
   "metadata": {},
   "outputs": [],
   "source": [
    "output_notebook()\n",
    "\n",
    "p = figure(title = \"Movie t-SNE by GNN\")\n",
    "p.xaxis.axis_label = 'x'\n",
    "p.yaxis.axis_label = 'y'\n",
    "\n",
    "color_column = []\n",
    "for genre in movies['genre'].unique().tolist():\n",
    "    color_column.append(genre)\n",
    "\n",
    "c = p.circle(x='x', y='y', color='red', fill_alpha=0.2, size=3, source=movies)\n",
    "\n",
    "c = p.circle(x='x', \n",
    "             y='y', \n",
    "             legend_field=\"genre\",\n",
    "             color=factor_cmap('genre', d3['Category20'][18], color_column),\n",
    "             fill_alpha=1, \n",
    "             size=3, \n",
    "             source=movies)\n",
    "\n",
    "\n",
    "circle_hover = HoverTool(tooltips=[('title:', '@title')], \n",
    "                         mode='mouse', \n",
    "                         point_policy='follow_mouse', \n",
    "                         renderers=[c])\n",
    "circle_hover.renderers.append(c)\n",
    "\n",
    "# mouse hover와 legend 정보 부착\n",
    "p.tools.append(circle_hover)\n",
    "p.legend.label_text_font_size = '5pt'\n",
    "p.legend.location = 'bottom_left'\n",
    "\n",
    "show(p)"
   ]
  },
  {
   "cell_type": "code",
   "execution_count": null,
   "id": "c1f446a7-760e-4dab-84ec-d9471b293fdd",
   "metadata": {},
   "outputs": [],
   "source": []
  },
  {
   "cell_type": "code",
   "execution_count": null,
   "id": "7d7c5619-3cbb-4b2b-84f1-a08cea45ba77",
   "metadata": {},
   "outputs": [],
   "source": []
  },
  {
   "cell_type": "code",
   "execution_count": null,
   "id": "eb546223-4f4e-4131-9343-1035052bd590",
   "metadata": {},
   "outputs": [],
   "source": []
  },
  {
   "cell_type": "code",
   "execution_count": null,
   "id": "3b7426f7-c46c-4c2a-b4f5-dc1e487c7af4",
   "metadata": {},
   "outputs": [],
   "source": []
  }
 ],
 "metadata": {
  "kernelspec": {
   "display_name": "Python 3 (ipykernel)",
   "language": "python",
   "name": "python3"
  },
  "language_info": {
   "codemirror_mode": {
    "name": "ipython",
    "version": 3
   },
   "file_extension": ".py",
   "mimetype": "text/x-python",
   "name": "python",
   "nbconvert_exporter": "python",
   "pygments_lexer": "ipython3",
   "version": "3.11.3"
  }
 },
 "nbformat": 4,
 "nbformat_minor": 5
}
