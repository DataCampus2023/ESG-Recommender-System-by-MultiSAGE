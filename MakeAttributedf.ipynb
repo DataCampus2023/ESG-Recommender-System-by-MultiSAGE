{
 "cells": [
  {
   "cell_type": "code",
   "execution_count": 1,
   "id": "73226946",
   "metadata": {},
   "outputs": [],
   "source": [
    "import torch\n",
    "import numpy as np\n",
    "import pandas as pd\n",
    "import math\n",
    "import dgl\n",
    "import pickle\n",
    "from multisage.builder import PandasGraphBuilder\n",
    "import ast"
   ]
  },
  {
   "cell_type": "code",
   "execution_count": 2,
   "id": "4baab918",
   "metadata": {},
   "outputs": [],
   "source": [
    "df = pd.read_excel('dataset/Beauty/data.xlsx')"
   ]
  },
  {
   "cell_type": "code",
   "execution_count": 6,
   "id": "6a6cadb3",
   "metadata": {},
   "outputs": [
    {
     "name": "stderr",
     "output_type": "stream",
     "text": [
      "C:\\Users\\kimhw\\AppData\\Local\\Temp\\ipykernel_25276\\3938062044.py:2: SettingWithCopyWarning: \n",
      "A value is trying to be set on a copy of a slice from a DataFrame\n",
      "\n",
      "See the caveats in the documentation: https://pandas.pydata.org/pandas-docs/stable/user_guide/indexing.html#returning-a-view-versus-a-copy\n",
      "  df['특징'][i] = ast.literal_eval(df['특징'][i])\n"
     ]
    }
   ],
   "source": [
    "for i in range(len(df)):\n",
    "    df['특징'][i] = ast.literal_eval(df['특징'][i])\n",
    "    new_features = []\n",
    "    for j in df['특징'][i]:\n",
    "        if ', ' in j:\n",
    "            new_features.extend(j.split(', '))\n",
    "            for k in j.split(', '):\n",
    "                if ',' in k:\n",
    "                    new_features.extend(k.split(','))\n",
    "        elif ',' in j:\n",
    "            new_features.extend(j.split(','))\n",
    "            for k in j.split(','):\n",
    "                if ', ' in k:\n",
    "                    new_features.extend(k.split(', '))\n",
    "        else:\n",
    "            new_features.append(j)\n",
    "    df.at[i, '특징'] = new_features\n",
    "\n",
    "df_copy = df.copy()\n",
    "\n",
    "small_df = df_copy.explode('특징')[['ID','상품명','특징','평점']]\n",
    "attributes = pd.DataFrame(small_df['특징'].unique()).reset_index()\n",
    "attributes.columns = ['특징_id', '특징']\n",
    "attributes = pd.DataFrame(attributes).astype({'특징_id': 'category'})\n",
    "\n",
    "attributes.to_excel('attribute_df.xlsx')\n",
    "attribute"
   ]
  },
  {
   "cell_type": "code",
   "execution_count": null,
   "id": "b2a7d4b0",
   "metadata": {},
   "outputs": [],
   "source": []
  }
 ],
 "metadata": {
  "kernelspec": {
   "display_name": "Python 3 (ipykernel)",
   "language": "python",
   "name": "python3"
  },
  "language_info": {
   "codemirror_mode": {
    "name": "ipython",
    "version": 3
   },
   "file_extension": ".py",
   "mimetype": "text/x-python",
   "name": "python",
   "nbconvert_exporter": "python",
   "pygments_lexer": "ipython3",
   "version": "3.11.3"
  }
 },
 "nbformat": 4,
 "nbformat_minor": 5
}
