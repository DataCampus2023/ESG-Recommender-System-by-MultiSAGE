{
 "cells": [
  {
   "cell_type": "code",
   "execution_count": 1,
   "id": "90c362af",
   "metadata": {},
   "outputs": [],
   "source": [
    "import dgl\n",
    "from scipy import spatial\n",
    "import numpy as np\n",
    "import pandas as pd\n",
    "\n",
    "df = pd.read_excel('./dataset/Haircare/df.xlsx')\n",
    "merged_df = pd.read_excel('./dataset/Haircare/merged_df.xlsx')\n",
    "attributes = pd.read_excel('./dataset/Haircare/attributes.xlsx')\n",
    "g = dgl.load_graphs('./dataset/Haircare/haircare_graph.dgl')[0][0]\n",
    "\n",
    "saved_npz = np.load('./multisage/' + 'h_items.npz')\n",
    "h_item = saved_npz['movie_vectors']\n",
    "tree = spatial.KDTree(h_item.tolist())"
   ]
  },
  {
   "cell_type": "code",
   "execution_count": 2,
   "id": "3b32eec2",
   "metadata": {},
   "outputs": [
    {
     "name": "stdout",
     "output_type": "stream",
     "text": [
      "['힘없는 모발용 트리트먼트 300ml']\n",
      "['프리미엄 허브 샴푸 1000ml']\n",
      "['퓨어 스칼프 샴푸 500ml']\n",
      "['피에스바이오 케어팩 500ml']\n",
      "['프리미엄 울트라 하드 미스트 250ml']\n",
      "['프로 체인지 다크닝 샴푸 300g(신형)']\n",
      "['초강력 헤어 스프레이 300ml']\n",
      "['헤어 토닉 60ml']\n",
      "['컬러팝 헤어 트리트먼트 50g']\n",
      "['홍진단 편백 쿨링 샴푸 820ml']\n"
     ]
    }
   ],
   "source": [
    "entities = df['ID'].astype('category')\n",
    "m_entities = entities.cat.reorder_categories(df['ID'].values)\n",
    "\n",
    "index_id_to_ID = {}\n",
    "ID_to_index_id = {}\n",
    "for idx, ID in enumerate(m_entities):\n",
    "    index_id_to_ID[idx] = ID\n",
    "    ID_to_index_id[ID] = idx\n",
    "    \n",
    "h_query = h_item[ID_to_index_id[25320566538]]\n",
    "index_ids = tree.query(h_query, 10)[1]\n",
    "IDs = [index_id_to_ID[idx] for idx in index_ids]\n",
    "\n",
    "for mid in IDs:\n",
    "    print(df[df['ID']==mid]['상품명'].values)"
   ]
  },
  {
   "cell_type": "code",
   "execution_count": 3,
   "id": "048bd59e",
   "metadata": {},
   "outputs": [],
   "source": [
    "import torch\n",
    "import pickle\n",
    "import sys\n",
    "\n",
    "sys.path.append('C:/Users/kimhw/Desktop/데이터 청년 캠퍼스/Github/ESG-Recommender-System-by-MultiSAGE/multisage')\n",
    "from model import MultiSAGEModel\n",
    "from sampler import ItemToItemBatchSampler, NeighborSampler, PinSAGECollator\n",
    "\n",
    "load_dict = torch.load('./multisage/MultiSAGE_weights.pth')\n",
    "\n",
    "model = MultiSAGEModel(g, '상품', '특징', 512, 2, 3)\n",
    "model.load_state_dict(load_dict)\n",
    "\n",
    "batch_sampler = ItemToItemBatchSampler(g, '특징', '상품', 512)\n",
    "neighbor_sampler = NeighborSampler(\n",
    "    g, '특징', '상품', 2, 0.5, 10, 5, 2)\n",
    "collator = PinSAGECollator(neighbor_sampler, g, '상품', '특징')"
   ]
  },
  {
   "cell_type": "code",
   "execution_count": 5,
   "id": "70db68ec",
   "metadata": {},
   "outputs": [
    {
     "data": {
      "text/html": [
       "<div>\n",
       "<style scoped>\n",
       "    .dataframe tbody tr th:only-of-type {\n",
       "        vertical-align: middle;\n",
       "    }\n",
       "\n",
       "    .dataframe tbody tr th {\n",
       "        vertical-align: top;\n",
       "    }\n",
       "\n",
       "    .dataframe thead th {\n",
       "        text-align: right;\n",
       "    }\n",
       "</style>\n",
       "<table border=\"1\" class=\"dataframe\">\n",
       "  <thead>\n",
       "    <tr style=\"text-align: right;\">\n",
       "      <th></th>\n",
       "      <th>Unnamed: 0</th>\n",
       "      <th>attribute_id</th>\n",
       "      <th>특징</th>\n",
       "    </tr>\n",
       "  </thead>\n",
       "  <tbody>\n",
       "    <tr>\n",
       "      <th>86</th>\n",
       "      <td>86</td>\n",
       "      <td>86</td>\n",
       "      <td>트리트먼트</td>\n",
       "    </tr>\n",
       "  </tbody>\n",
       "</table>\n",
       "</div>"
      ],
      "text/plain": [
       "    Unnamed: 0  attribute_id     특징\n",
       "86          86            86  트리트먼트"
      ]
     },
     "execution_count": 5,
     "metadata": {},
     "output_type": "execute_result"
    }
   ],
   "source": [
    "attributes[attributes['특징'] == '트리트먼트']"
   ]
  },
  {
   "cell_type": "code",
   "execution_count": 6,
   "id": "4ea163d5",
   "metadata": {},
   "outputs": [
    {
     "name": "stdout",
     "output_type": "stream",
     "text": [
      "7\n",
      "tensor([7, 7, 7, 0, 7])\n",
      "execute context query\n",
      "['힘없는 모발용 트리트먼트 300ml']\n",
      "['프리미엄 허브 샴푸 1000ml']\n",
      "['퓨어 스칼프 샴푸 500ml']\n",
      "['피에스바이오 케어팩 500ml']\n",
      "['초강력 헤어 스프레이 300ml']\n",
      "['프리미엄 울트라 하드 미스트 250ml']\n",
      "['프로 체인지 다크닝 샴푸 300g(신형)']\n",
      "['홍진단 편백 쿨링 샴푸 820ml']\n",
      "['컬러팝 헤어 트리트먼트 50g']\n",
      "['콜라겐 2종 세트']\n"
     ]
    }
   ],
   "source": [
    "index_id = ID_to_index_id[25320566538]\n",
    "with torch.no_grad():\n",
    "    blocks, context_blocks = collator.collate_point(index_id=index_id)\n",
    "    context_batch = model.get_representation(blocks, context_blocks, context_id=86)\n",
    "    \n",
    "tree.query(context_batch.numpy()[0], 10)\n",
    "\n",
    "index_ids = tree.query(context_batch.numpy()[0], 10)[1]\n",
    "IDs = [index_id_to_ID[idx] for idx in index_ids]\n",
    "for mid in IDs:\n",
    "    print(df[df['ID']==mid]['상품명'].values)"
   ]
  },
  {
   "cell_type": "code",
   "execution_count": null,
   "id": "c03f764f",
   "metadata": {},
   "outputs": [],
   "source": []
  }
 ],
 "metadata": {
  "kernelspec": {
   "display_name": "Python 3 (ipykernel)",
   "language": "python",
   "name": "python3"
  },
  "language_info": {
   "codemirror_mode": {
    "name": "ipython",
    "version": 3
   },
   "file_extension": ".py",
   "mimetype": "text/x-python",
   "name": "python",
   "nbconvert_exporter": "python",
   "pygments_lexer": "ipython3",
   "version": "3.11.3"
  }
 },
 "nbformat": 4,
 "nbformat_minor": 5
}
